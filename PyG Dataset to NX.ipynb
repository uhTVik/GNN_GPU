{
 "cells": [
  {
   "cell_type": "code",
   "execution_count": 9,
   "id": "4371c6fd",
   "metadata": {},
   "outputs": [],
   "source": [
    "# Import library\n",
    "import time\n",
    "import metis\n",
    "import torch\n",
    "import torch_geometric\n",
    "import networkx as nx\n",
    "import matplotlib.pyplot as plt\n",
    "from tqdm.notebook import tqdm_notebook\n",
    "\n",
    "# Inline command\n",
    "%matplotlib inline"
   ]
  },
  {
   "cell_type": "code",
   "execution_count": null,
   "id": "e3caed4c",
   "metadata": {},
   "outputs": [],
   "source": [
    "# Load dataset library\n",
    "from torch_geometric.datasets import Reddit\n",
    "# Download dataset\n",
    "dataset = Reddit(root='./datasets/Reddit')"
   ]
  },
  {
   "cell_type": "code",
   "execution_count": 3,
   "id": "e0cd19d8",
   "metadata": {},
   "outputs": [
    {
     "name": "stderr",
     "output_type": "stream",
     "text": [
      "Downloading https://github.com/kimiyoung/planetoid/raw/master/data/ind.cora.x\n",
      "Downloading https://github.com/kimiyoung/planetoid/raw/master/data/ind.cora.tx\n",
      "Downloading https://github.com/kimiyoung/planetoid/raw/master/data/ind.cora.allx\n",
      "Downloading https://github.com/kimiyoung/planetoid/raw/master/data/ind.cora.y\n",
      "Downloading https://github.com/kimiyoung/planetoid/raw/master/data/ind.cora.ty\n",
      "Downloading https://github.com/kimiyoung/planetoid/raw/master/data/ind.cora.ally\n",
      "Downloading https://github.com/kimiyoung/planetoid/raw/master/data/ind.cora.graph\n",
      "Downloading https://github.com/kimiyoung/planetoid/raw/master/data/ind.cora.test.index\n",
      "Processing...\n",
      "Done!\n"
     ]
    }
   ],
   "source": [
    "# Load dataset library\n",
    "from torch_geometric.datasets import Planetoid\n",
    "# Download dataset\n",
    "dataset = Planetoid(root='./datasets/Cora', name='Cora')"
   ]
  },
  {
   "cell_type": "code",
   "execution_count": 12,
   "id": "43907af9",
   "metadata": {},
   "outputs": [],
   "source": [
    "# Load dataset library\n",
    "from torch_geometric.datasets import KarateClub\n",
    "# Download dataset\n",
    "dataset = KarateClub()"
   ]
  },
  {
   "cell_type": "code",
   "execution_count": 13,
   "id": "74dfe214",
   "metadata": {},
   "outputs": [
    {
     "name": "stdout",
     "output_type": "stream",
     "text": [
      "Dataset: KarateClub()\n",
      "===========================\n",
      "Number of graphs: 1\n",
      "Number of features: 34\n",
      "Number of classes: 4\n"
     ]
    }
   ],
   "source": [
    "# Print dataset information\n",
    "print('Dataset: {}'.format(dataset))\n",
    "print('===========================')\n",
    "print('Number of graphs: {}'.format(len(dataset)))\n",
    "print('Number of features: {}'.format(dataset.num_features))\n",
    "print('Number of classes: {}'.format(dataset.num_classes))"
   ]
  },
  {
   "cell_type": "code",
   "execution_count": 14,
   "id": "527bdf66",
   "metadata": {},
   "outputs": [
    {
     "name": "stdout",
     "output_type": "stream",
     "text": [
      "Graph details\n",
      "===========================\n",
      "Number of nodes: 34\n",
      "Number of edges: 156\n",
      "Average node degree: 4.59\n",
      "Number of training nodes: 4\n",
      "Training node label rate: 0.12\n",
      "Contains isolated nodes: False\n",
      "Contains self loops: False\n",
      "Is undirected: True\n"
     ]
    }
   ],
   "source": [
    "# Print dataset detailed information\n",
    "graph_data = dataset[0]\n",
    "print('Graph details')\n",
    "print('===========================')\n",
    "print('Number of nodes: {}'.format(graph_data.num_nodes))\n",
    "print('Number of edges: {}'.format(graph_data.num_edges))\n",
    "print('Average node degree: {:.2f}'.format(graph_data.num_edges / graph_data.num_nodes))\n",
    "print('Number of training nodes: {}'.format(graph_data.train_mask.sum()))\n",
    "print('Training node label rate: {:.2f}'.format(int(graph_data.train_mask.sum()) / graph_data.num_nodes))\n",
    "print('Contains isolated nodes: {}'.format(graph_data.has_isolated_nodes()))\n",
    "print('Contains self loops: {}'.format(graph_data.has_self_loops()))\n",
    "print('Is undirected: {}'.format(graph_data.is_undirected()))"
   ]
  },
  {
   "cell_type": "code",
   "execution_count": 15,
   "id": "ba45996f",
   "metadata": {},
   "outputs": [],
   "source": [
    "# Helper function for visualizing graph data\n",
    "def graph_visualize(graph, color, epoch=None, loss=None):\n",
    "    # Define plot properties\n",
    "    plt.figure(figsize=(7,7))\n",
    "    plt.xticks([])\n",
    "    plt.yticks([])\n",
    "    \n",
    "    # Check whether input is in tensor or NX graph representation\n",
    "    if (torch.is_tensor(graph)):\n",
    "        # Convert tensor to numpy\n",
    "        graph = graph.detach().cpu().numpy()\n",
    "        # Create scatter plot\n",
    "        plt.scatter(graph[:, 0], graph[:, 0], s=140, c=color, cmap='Set2')\n",
    "        # Print additional label\n",
    "        if ((epoch is not None) and (loss is not None)):\n",
    "            plt.xlabel('Epoch: {}, Loss: {:.4f}'.format(epoch, loss.item()), fontsize=16)\n",
    "    else:\n",
    "        nx.draw_networkx(graph, pos=nx.spring_layout(graph, seed=42), with_labels=False,\n",
    "                         node_color=color, cmap='Set2')\n",
    "    \n",
    "    # Show graph\n",
    "    plt.show()"
   ]
  },
  {
   "cell_type": "code",
   "execution_count": 16,
   "id": "8acbe321",
   "metadata": {},
   "outputs": [
    {
     "name": "stdout",
     "output_type": "stream",
     "text": [
      "[Status] Converting graph from tensor to networkX\n",
      "[Status] Partitioning graph using metis\n",
      "[Status] Assigning color map for each subgraph\n"
     ]
    },
    {
     "data": {
      "application/vnd.jupyter.widget-view+json": {
       "model_id": "e27f656eb79a454c9dd67ecc804d8d66",
       "version_major": 2,
       "version_minor": 0
      },
      "text/plain": [
       "0it [00:00, ?it/s]"
      ]
     },
     "metadata": {},
     "output_type": "display_data"
    }
   ],
   "source": [
    "# Convert tensor dataset to networkx\n",
    "from torch_geometric.utils.convert import to_networkx\n",
    "print(\"[Status] Converting graph from tensor to networkX\")\n",
    "nx_graph_data = to_networkx(graph_data)\n",
    "\n",
    "# Partition graph\n",
    "print(\"[Status] Partitioning graph using metis\")\n",
    "(edgecuts, parts) = metis.part_graph(nx_graph_data, 3)\n",
    "\n",
    "# Set color\n",
    "colors = ['red','blue','green']\n",
    "\n",
    "# Create color map\n",
    "print(\"[Status] Assigning color map for each subgraph\")\n",
    "color_map = []\n",
    "for i, p in tqdm_notebook(enumerate(parts)):\n",
    "    color_map.append(colors[p])"
   ]
  },
  {
   "cell_type": "code",
   "execution_count": 17,
   "id": "7b2bd20c",
   "metadata": {},
   "outputs": [
    {
     "data": {
      "image/png": "[encoded data removed]",
      "text/plain": [
       "<Figure size 432x288 with 1 Axes>"
      ]
     },
     "metadata": {},
     "output_type": "display_data"
    }
   ],
   "source": [
    "# Draw graph\n",
    "nx.draw_networkx(nx_graph_data, pos=nx.spring_layout(nx_graph_data, seed=42), with_labels=False,\n",
    "                         node_color=color_map, cmap='Set2')"
   ]
  },
  {
   "cell_type": "code",
   "execution_count": 18,
   "id": "5d8077a2",
   "metadata": {},
   "outputs": [],
   "source": [
    "clusters = list(set(parts))"
   ]
  },
  {
   "cell_type": "code",
   "execution_count": 19,
   "id": "5168e33b",
   "metadata": {},
   "outputs": [
    {
     "name": "stdout",
     "output_type": "stream",
     "text": [
      "[0, 1, 2]\n"
     ]
    }
   ],
   "source": [
    "print(clusters)"
   ]
  },
  {
   "cell_type": "code",
   "execution_count": 20,
   "id": "9b06fe04",
   "metadata": {},
   "outputs": [],
   "source": [
    "cluster_membership = {node: membership for node, membership in enumerate(parts)}"
   ]
  },
  {
   "cell_type": "code",
   "execution_count": 21,
   "id": "5997c144",
   "metadata": {},
   "outputs": [
    {
     "name": "stdout",
     "output_type": "stream",
     "text": [
      "{0: 1, 1: 1, 2: 2, 3: 2, 4: 0, 5: 0, 6: 0, 7: 2, 8: 0, 9: 2, 10: 0, 11: 0, 12: 0, 13: 2, 14: 1, 15: 1, 16: 0, 17: 0, 18: 1, 19: 2, 20: 1, 21: 0, 22: 1, 23: 2, 24: 1, 25: 2, 26: 1, 27: 2, 28: 2, 29: 2, 30: 0, 31: 1, 32: 0, 33: 1}\n"
     ]
    }
   ],
   "source": [
    "print(cluster_membership)"
   ]
  },
  {
   "cell_type": "code",
   "execution_count": 25,
   "id": "db4defe2",
   "metadata": {},
   "outputs": [
    {
     "name": "stdout",
     "output_type": "stream",
     "text": [
      "0 - 1\n",
      "1 - 1\n",
      "2 - 2\n",
      "3 - 2\n",
      "4 - 0\n",
      "5 - 0\n",
      "6 - 0\n",
      "7 - 2\n",
      "8 - 0\n",
      "9 - 2\n",
      "10 - 0\n",
      "11 - 0\n",
      "12 - 0\n",
      "13 - 2\n",
      "14 - 1\n",
      "15 - 1\n",
      "16 - 0\n",
      "17 - 0\n",
      "18 - 1\n",
      "19 - 2\n",
      "20 - 1\n",
      "21 - 0\n",
      "22 - 1\n",
      "23 - 2\n",
      "24 - 1\n",
      "25 - 2\n",
      "26 - 1\n",
      "27 - 2\n",
      "28 - 2\n",
      "29 - 2\n",
      "30 - 0\n",
      "31 - 1\n",
      "32 - 0\n",
      "33 - 1\n"
     ]
    }
   ],
   "source": [
    "for node, membership in enumerate(parts):\n",
    "    print('{} - {}'.format(node, membership))"
   ]
  },
  {
   "cell_type": "code",
   "execution_count": null,
   "id": "3d4148b8",
   "metadata": {},
   "outputs": [],
   "source": []
  }
 ],
 "metadata": {
  "kernelspec": {
   "display_name": "Python 3 (ipykernel)",
   "language": "python",
   "name": "python3"
  },
  "language_info": {
   "codemirror_mode": {
    "name": "ipython",
    "version": 3
   },
   "file_extension": ".py",
   "mimetype": "text/x-python",
   "name": "python",
   "nbconvert_exporter": "python",
   "pygments_lexer": "ipython3",
   "version": "3.9.7"
  }
 },
 "nbformat": 4,
 "nbformat_minor": 5
}
